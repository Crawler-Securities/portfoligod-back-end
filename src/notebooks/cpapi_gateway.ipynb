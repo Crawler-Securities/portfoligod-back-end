{
 "cells": [
  {
   "cell_type": "code",
   "id": "initial_id",
   "metadata": {
    "collapsed": true,
    "ExecuteTime": {
     "end_time": "2024-04-12T20:00:22.812026Z",
     "start_time": "2024-04-12T20:00:22.523434Z"
    }
   },
   "source": "from src.routes.IBKR.ProxyCPAPI import  ProxyCPAPI",
   "outputs": [],
   "execution_count": 1
  },
  {
   "metadata": {
    "ExecuteTime": {
     "end_time": "2024-04-12T20:00:22.816681Z",
     "start_time": "2024-04-12T20:00:22.813027Z"
    }
   },
   "cell_type": "code",
   "source": "GATEWAY_URL = \"https://localhost:5000/v1/api\"",
   "id": "e5f6a9960befb845",
   "outputs": [],
   "execution_count": 2
  },
  {
   "metadata": {
    "ExecuteTime": {
     "end_time": "2024-04-12T20:00:22.821678Z",
     "start_time": "2024-04-12T20:00:22.817679Z"
    }
   },
   "cell_type": "code",
   "source": "prox = ProxyCPAPI(gateway_url=GATEWAY_URL)",
   "id": "750faceb6a5f95b8",
   "outputs": [],
   "execution_count": 3
  },
  {
   "metadata": {
    "ExecuteTime": {
     "end_time": "2024-04-12T20:00:22.825944Z",
     "start_time": "2024-04-12T20:00:22.823678Z"
    }
   },
   "cell_type": "code",
   "source": "",
   "id": "9e954c72715b4179",
   "outputs": [],
   "execution_count": 3
  },
  {
   "metadata": {},
   "cell_type": "code",
   "outputs": [],
   "execution_count": null,
   "source": "x",
   "id": "ec9df3bb84987e1d"
  }
 ],
 "metadata": {
  "kernelspec": {
   "display_name": "Python 3",
   "language": "python",
   "name": "python3"
  },
  "language_info": {
   "codemirror_mode": {
    "name": "ipython",
    "version": 2
   },
   "file_extension": ".py",
   "mimetype": "text/x-python",
   "name": "python",
   "nbconvert_exporter": "python",
   "pygments_lexer": "ipython2",
   "version": "2.7.6"
  }
 },
 "nbformat": 4,
 "nbformat_minor": 5
}
