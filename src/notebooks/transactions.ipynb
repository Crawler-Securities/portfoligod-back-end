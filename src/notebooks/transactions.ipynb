{
 "cells": [
  {
   "metadata": {
    "ExecuteTime": {
     "end_time": "2024-04-23T10:04:31.903615Z",
     "start_time": "2024-04-23T10:04:31.898271Z"
    }
   },
   "cell_type": "code",
   "source": [
    "def get_conid(cons, ticker: str):\n",
    "    for con in cons:\n",
    "        if con['ticker'] == ticker:\n",
    "            return con['conid']\n",
    "            "
   ],
   "id": "ab8f023c8fc70c2",
   "outputs": [],
   "execution_count": 1
  },
  {
   "metadata": {
    "ExecuteTime": {
     "end_time": "2024-04-23T10:04:32.699940Z",
     "start_time": "2024-04-23T10:04:32.608501Z"
    }
   },
   "cell_type": "code",
   "source": [
    "import urllib3\n",
    "\n",
    "urllib3.disable_warnings(urllib3.exceptions.InsecureRequestWarning)\n",
    "from src import config\n",
    "import requests\n",
    "\n",
    "\n",
    "baseUrl = config.CPAPI_GATEWAY_URL"
   ],
   "id": "initial_id",
   "outputs": [],
   "execution_count": 2
  },
  {
   "metadata": {
    "ExecuteTime": {
     "end_time": "2024-04-23T10:04:36.464708Z",
     "start_time": "2024-04-23T10:04:33.296064Z"
    }
   },
   "cell_type": "code",
   "source": [
    "\n",
    "accountsRes = requests.get(baseUrl + '/portfolio/accounts', verify=False)\n",
    "accountId = accountsRes.json()[0]['accountId']"
   ],
   "id": "fd9d477eb4fd930",
   "outputs": [],
   "execution_count": 3
  },
  {
   "metadata": {
    "ExecuteTime": {
     "end_time": "2024-04-23T10:04:40.622840Z",
     "start_time": "2024-04-23T10:04:36.470745Z"
    }
   },
   "cell_type": "code",
   "source": [
    "consRes = requests.get(baseUrl + '/trsrv/all-conids?exchange=NYSE', verify=False)\n",
    "cons = consRes.json()\n",
    "\n"
   ],
   "id": "9374f65afc818de3",
   "outputs": [],
   "execution_count": 4
  },
  {
   "metadata": {
    "ExecuteTime": {
     "end_time": "2024-04-23T10:05:17.659643Z",
     "start_time": "2024-04-23T10:05:17.655919Z"
    }
   },
   "cell_type": "code",
   "source": [
    "\n",
    "request_url = f\"{baseUrl}/pa/transactions\"\n",
    "conid = get_conid(cons, 'NVDA')"
   ],
   "id": "7c2f5e01548b255c",
   "outputs": [],
   "execution_count": 9
  },
  {
   "metadata": {
    "ExecuteTime": {
     "end_time": "2024-04-23T10:05:21.822068Z",
     "start_time": "2024-04-23T10:05:18.080716Z"
    }
   },
   "cell_type": "code",
   "source": [
    "json_content = {\n",
    "    \"acctIds\": [\n",
    "        accountId\n",
    "    ],\n",
    "    \"conids\": [\n",
    "        conid\n",
    "    ],\n",
    "    \"currency\": \"USD\",\n",
    "    \"days\": 300\n",
    "}\n",
    "transRes = requests.post(url=request_url, json=json_content, verify=False)"
   ],
   "id": "6ba43f0f73f37a40",
   "outputs": [],
   "execution_count": 10
  },
  {
   "metadata": {
    "ExecuteTime": {
     "end_time": "2024-04-23T10:05:21.837925Z",
     "start_time": "2024-04-23T10:05:21.829109Z"
    }
   },
   "cell_type": "code",
   "source": "a = transRes.json()",
   "id": "e95f64035b66737a",
   "outputs": [],
   "execution_count": 11
  },
  {
   "metadata": {},
   "cell_type": "code",
   "outputs": [],
   "execution_count": null,
   "source": "",
   "id": "9c44ed084b698b88"
  }
 ],
 "metadata": {
  "kernelspec": {
   "display_name": "Python 3",
   "language": "python",
   "name": "python3"
  },
  "language_info": {
   "codemirror_mode": {
    "name": "ipython",
    "version": 2
   },
   "file_extension": ".py",
   "mimetype": "text/x-python",
   "name": "python",
   "nbconvert_exporter": "python",
   "pygments_lexer": "ipython2",
   "version": "2.7.6"
  }
 },
 "nbformat": 4,
 "nbformat_minor": 5
}
